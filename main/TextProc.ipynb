{
 "cells": [
  {
   "cell_type": "code",
   "execution_count": 42,
   "metadata": {},
   "outputs": [
    {
     "name": "stderr",
     "output_type": "stream",
     "text": [
      "[nltk_data] Downloading package stopwords to\n",
      "[nltk_data]     C:\\Users\\Lenovo\\AppData\\Roaming\\nltk_data...\n",
      "[nltk_data]   Package stopwords is already up-to-date!\n"
     ]
    }
   ],
   "source": [
    "from sklearn.feature_extraction.text import CountVectorizer, TfidfTransformer\n",
    "import matplotlib.pyplot as plt\n",
    "import itertools\n",
    "import nltk\n",
    "nltk.download('stopwords')\n",
    "from sklearn.model_selection import train_test_split\n",
    "from nltk.corpus import stopwords\n",
    "from pymystem3 import Mystem\n",
    "from string import punctuation\n",
    "import pandas as pd"
   ]
  },
  {
   "cell_type": "code",
   "execution_count": 43,
   "metadata": {},
   "outputs": [],
   "source": [
    "mystem = Mystem()\n",
    "russian_stopwords = stopwords.words(\"russian\")\n",
    "\n",
    "\n",
    "# FIRST: Preprocessing\n",
    "def preprocess_text(text):\n",
    "    # 1. lowercase all words\n",
    "    # 2. Lemmatize - interpret different forms of the same word as one word\n",
    "    tokens = mystem.lemmatize(text.lower())\n",
    "    # 3. Remove stopwords and punctuation\n",
    "    tokens = [token for token in tokens if token not in russian_stopwords \\\n",
    "              and token != \" \" \\\n",
    "              and token.strip() not in punctuation]\n",
    "    text = \" \".join(tokens)\n",
    "\n",
    "    return text"
   ]
  },
  {
   "cell_type": "code",
   "execution_count": 44,
   "metadata": {},
   "outputs": [
    {
     "name": "stdout",
     "output_type": "stream",
     "text": [
      "['hyakki', ' ', 'yakkō', ' ', '03', '/', '11', '/', '19', '\\n', 'блуждать', ' ', 'в', ' ', 'дым', ', ', 'соверша', '\\n']\n"
     ]
    }
   ],
   "source": [
    "tokens = mystem.lemmatize(('Hyakki Yakkō 03/11/19\\nБлуждаем в дыму, соверш').lower())\n",
    "print(tokens)"
   ]
  },
  {
   "cell_type": "code",
   "execution_count": 45,
   "metadata": {},
   "outputs": [],
   "source": [
    "def standardize_text(df, text_field):\n",
    "#     df[text_field] = df[text_field].str.replace(r\"http\\S+\", \"\")\n",
    "#     df[text_field] = df[text_field].str.replace(r\"http\", \"\")\n",
    "#     df[text_field] = df[text_field].str.replace(r\"@\\S+\", \"\")\n",
    "#     df[text_field] = df[text_field].str.replace(r\"[^A-Za-z0-9(),!?@\\'\\`\\\"\\_\\n]\", \" \")\n",
    "#     df[text_field] = df[text_field].str.replace(r\"@\", \"at\")\n",
    "    df[text_field] = df[text_field].apply(lambda row: mystem.lemmatize(str(row.lower())))\n",
    "    return df\n",
    "\n"
   ]
  },
  {
   "cell_type": "code",
   "execution_count": 46,
   "metadata": {},
   "outputs": [
    {
     "name": "stdout",
     "output_type": "stream",
     "text": [
      "(100, 2)\n",
      "                                                text  label\n",
      "0  20 декабрь устраивать небольшой бунт мачта 20 ...      1\n",
      "1  hyakki yakkō 03 11 19 блуждать дым совершать т...      1\n",
      "2  дело дело 04 09 учиться делать трансляция пить...      1\n",
      "3  hyakki yakō 3 ноябрь 21 00 рубинштейн 28 мотив...      1\n",
      "4  субботний теплый вечер встречаться wod grafikk...      1\n",
      "All Data:  (100, 2)\n"
     ]
    },
    {
     "name": "stderr",
     "output_type": "stream",
     "text": [
      "E:\\Program_Files\\Anaconda3\\lib\\site-packages\\ipykernel_launcher.py:5: SettingWithCopyWarning: \n",
      "A value is trying to be set on a copy of a slice from a DataFrame.\n",
      "Try using .loc[row_indexer,col_indexer] = value instead\n",
      "\n",
      "See the caveats in the documentation: http://pandas.pydata.org/pandas-docs/stable/user_guide/indexing.html#returning-a-view-versus-a-copy\n",
      "  \"\"\"\n"
     ]
    }
   ],
   "source": [
    "\"\"\"   APPLY PREPROCESSING   \"\"\"\n",
    "data = pd.read_csv('E:/INEVENTZ/DATA/All_data.csv')\n",
    "data_short = data.iloc[:100]\n",
    "print(data_short.shape)\n",
    "data_short['text'] = data_short['text'].apply(lambda row: preprocess_text(str(row)))\n",
    "print(data_short.head())\n",
    "print(\"All Data: \", data_short.shape)\n",
    "#data['text'] = data['text'].apply(lambda row: preprocess_text(str(row)))\n",
    "data_short.to_csv(\"E:/INEVENTZ/DATA/data_short_no_sw.csv\", index=None, header=True)\n"
   ]
  },
  {
   "cell_type": "code",
   "execution_count": 47,
   "metadata": {},
   "outputs": [],
   "source": [
    "data = pd.read_csv('E:/INEVENTZ/DATA/data_short_no_sw.csv')"
   ]
  },
  {
   "cell_type": "code",
   "execution_count": 48,
   "metadata": {},
   "outputs": [
    {
     "name": "stdout",
     "output_type": "stream",
     "text": [
      "(100, 2)\n"
     ]
    }
   ],
   "source": [
    "print(data.shape)"
   ]
  },
  {
   "cell_type": "code",
   "execution_count": 49,
   "metadata": {},
   "outputs": [
    {
     "name": "stdout",
     "output_type": "stream",
     "text": [
      "994 words total, with a vocabulary size of 582\n",
      "Max sentence length is 308\n"
     ]
    }
   ],
   "source": [
    "# Create list of all WORDS in dataset\n",
    "all_words = [i.split(' ') for i in data[\"text\"]]\n",
    "all_words = list(itertools.chain.from_iterable(all_words))\n",
    "\n",
    "\n",
    "# Count length of each sentence in dataset\n",
    "sentence_lengths = [len(tokens) for tokens in data[\"text\"]]\n",
    "\n",
    "# Create list of all UNIQUE words\n",
    "VOCAB = sorted(list(set(all_words)))\n",
    "\n",
    "print(\"%s words total, with a vocabulary size of %s\" % (len(all_words), len(VOCAB)))\n",
    "print(\"Max sentence length is %s\" % max(sentence_lengths))"
   ]
  },
  {
   "cell_type": "code",
   "execution_count": 50,
   "metadata": {},
   "outputs": [
    {
     "data": {
      "image/png": "[encoded data removed]",
      "text/plain": [
       "<Figure size 720x720 with 1 Axes>"
      ]
     },
     "metadata": {
      "needs_background": "light"
     },
     "output_type": "display_data"
    }
   ],
   "source": [
    "# PLot hist\n",
    "fig = plt.figure(figsize=(10, 10))\n",
    "plt.xlabel('Sentence length')\n",
    "plt.ylabel('Number of sentences')\n",
    "plt.hist(sentence_lengths)\n",
    "plt.show()\n"
   ]
  },
  {
   "cell_type": "code",
   "execution_count": 55,
   "metadata": {},
   "outputs": [
    {
     "name": "stdout",
     "output_type": "stream",
     "text": [
      "0    75\n",
      "1    25\n",
      "Name: label, dtype: int64\n"
     ]
    }
   ],
   "source": [
    "print(data.label.value_counts())"
   ]
  },
  {
   "cell_type": "code",
   "execution_count": 63,
   "metadata": {},
   "outputs": [],
   "source": [
    "# Create bag of words\n",
    "\n",
    "def cv(data):\n",
    "    count_vectorizer = CountVectorizer()\n",
    "\n",
    "    emb = count_vectorizer.fit_transform(data)\n",
    "    print(\"EMB: \", emb)\n",
    "    print(\"Count_Vectorizer: \", count_vectorizer)\n",
    "    return emb, count_vectorizer\n",
    "\n",
    "list_text = data[\"text\"].tolist()\n",
    "list_labels = data[\"label\"].tolist()\n",
    "\n",
    "X_train, X_test, y_train, y_test = train_test_split(list_text, list_labels, test_size=0.5,\n",
    "                                                                                random_state=40)"
   ]
  },
  {
   "cell_type": "code",
   "execution_count": 64,
   "metadata": {},
   "outputs": [
    {
     "name": "stdout",
     "output_type": "stream",
     "text": [
      "dict_keys([0, 1])\n",
      "dict_values([38, 12])\n"
     ]
    }
   ],
   "source": [
    "# Count Unique values in train_y and test_y lists\n",
    "\n",
    "from collections import Counter\n",
    "print(Counter(y_train).keys()) # equals to list(set(words))\n",
    "print(Counter(y_test).values())"
   ]
  },
  {
   "cell_type": "code",
   "execution_count": 65,
   "metadata": {},
   "outputs": [
    {
     "name": "stdout",
     "output_type": "stream",
     "text": [
      "EMB:    (0, 279)\t1\n",
      "  (0, 225)\t1\n",
      "  (1, 39)\t1\n",
      "  (1, 70)\t1\n",
      "  (1, 1)\t1\n",
      "  (1, 3)\t1\n",
      "  (1, 4)\t1\n",
      "  (1, 80)\t1\n",
      "  (1, 109)\t1\n",
      "  (1, 263)\t1\n",
      "  (1, 284)\t1\n",
      "  (1, 247)\t1\n",
      "  (2, 248)\t1\n",
      "  (2, 140)\t1\n",
      "  (2, 124)\t1\n",
      "  (2, 306)\t1\n",
      "  (2, 227)\t1\n",
      "  (2, 199)\t1\n",
      "  (2, 317)\t1\n",
      "  (2, 134)\t1\n",
      "  (2, 137)\t1\n",
      "  (2, 316)\t1\n",
      "  (2, 139)\t1\n",
      "  (2, 242)\t1\n",
      "  (2, 37)\t1\n",
      "  :\t:\n",
      "  (45, 184)\t1\n",
      "  (45, 22)\t1\n",
      "  (45, 260)\t1\n",
      "  (46, 231)\t1\n",
      "  (46, 31)\t1\n",
      "  (46, 148)\t1\n",
      "  (46, 5)\t1\n",
      "  (47, 173)\t1\n",
      "  (47, 51)\t1\n",
      "  (47, 72)\t1\n",
      "  (47, 68)\t1\n",
      "  (47, 195)\t1\n",
      "  (47, 159)\t1\n",
      "  (48, 306)\t1\n",
      "  (48, 27)\t1\n",
      "  (48, 231)\t1\n",
      "  (48, 233)\t1\n",
      "  (48, 271)\t1\n",
      "  (48, 60)\t1\n",
      "  (48, 17)\t1\n",
      "  (48, 19)\t1\n",
      "  (49, 280)\t1\n",
      "  (49, 274)\t1\n",
      "  (49, 130)\t1\n",
      "  (49, 184)\t1\n",
      "Count_Vectorizer:  CountVectorizer(analyzer='word', binary=False, decode_error='strict',\n",
      "                dtype=<class 'numpy.int64'>, encoding='utf-8', input='content',\n",
      "                lowercase=True, max_df=1.0, max_features=None, min_df=1,\n",
      "                ngram_range=(1, 1), preprocessor=None, stop_words=None,\n",
      "                strip_accents=None, token_pattern='(?u)\\\\b\\\\w\\\\w+\\\\b',\n",
      "                tokenizer=None, vocabulary=None)\n"
     ]
    }
   ],
   "source": [
    "X_train_counts, count_vectorizer = cv(X_train)\n",
    "X_test_counts = count_vectorizer.transform(X_test)\n"
   ]
  },
  {
   "cell_type": "code",
   "execution_count": 69,
   "metadata": {},
   "outputs": [],
   "source": [
    "from sklearn.linear_model import LogisticRegression\n",
    "from joblib import dump\n",
    "\n",
    "# clf = LogisticRegression(C=30.0, class_weight='balanced', solver='newton-cg',\n",
    "#                          multi_class='multinomial', n_jobs=-1, random_state=40)\n",
    "clf = LogisticRegression()\n",
    "clf.fit(X_train_counts, y_train)\n",
    "dump(clf, 'E:/INEVENTZ/weights/logreg.joblib')\n",
    "y_predicted_counts = clf.predict(X_test_counts)\n"
   ]
  },
  {
   "cell_type": "code",
   "execution_count": 70,
   "metadata": {},
   "outputs": [
    {
     "name": "stdout",
     "output_type": "stream",
     "text": [
      "accuracy = 0.840, precision = 0.868, recall = 0.840, f1 = 0.808\n"
     ]
    }
   ],
   "source": [
    "from sklearn.metrics import accuracy_score, f1_score, precision_score, recall_score, classification_report\n",
    "\n",
    "\n",
    "def get_metrics(y_test, y_predicted):\n",
    "    # true positives / (true positives+false positives)\n",
    "    precision = precision_score(y_test, y_predicted, pos_label=None,\n",
    "                                average='weighted')\n",
    "    # true positives / (true positives + false negatives)\n",
    "    recall = recall_score(y_test, y_predicted, pos_label=None,\n",
    "                          average='weighted')\n",
    "\n",
    "    # harmonic mean of precision and recall\n",
    "    f1 = f1_score(y_test, y_predicted, pos_label=None, average='weighted')\n",
    "\n",
    "    # true positives + true negatives/ total\n",
    "    accuracy = accuracy_score(y_test, y_predicted)\n",
    "    return accuracy, precision, recall, f1\n",
    "\n",
    "\n",
    "accuracy, precision, recall, f1 = get_metrics(y_test, y_predicted_counts)\n",
    "print(\"accuracy = %.3f, precision = %.3f, recall = %.3f, f1 = %.3f\" % (accuracy, precision, recall, f1))\n"
   ]
  },
  {
   "cell_type": "code",
   "execution_count": null,
   "metadata": {},
   "outputs": [],
   "source": [
    "from joblib import load\n",
    "\n",
    "def test(text: str):\n",
    "    clf = load('E:/INEVENTZ/weights/logreg.joblib')\n",
    "    "
   ]
  },
  {
   "cell_type": "code",
   "execution_count": null,
   "metadata": {},
   "outputs": [],
   "source": []
  }
 ],
 "metadata": {
  "kernelspec": {
   "display_name": "Python 3",
   "language": "python",
   "name": "python3"
  },
  "language_info": {
   "codemirror_mode": {
    "name": "ipython",
    "version": 3
   },
   "file_extension": ".py",
   "mimetype": "text/x-python",
   "name": "python",
   "nbconvert_exporter": "python",
   "pygments_lexer": "ipython3",
   "version": "3.7.4"
  }
 },
 "nbformat": 4,
 "nbformat_minor": 2
}
