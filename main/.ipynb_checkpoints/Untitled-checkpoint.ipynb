{
 "cells": [
  {
   "cell_type": "code",
   "execution_count": 1,
   "metadata": {},
   "outputs": [
    {
     "name": "stderr",
     "output_type": "stream",
     "text": [
      "[nltk_data] Downloading package stopwords to\n",
      "[nltk_data]     C:\\Users\\Lenovo\\AppData\\Roaming\\nltk_data...\n",
      "[nltk_data]   Package stopwords is already up-to-date!\n"
     ]
    }
   ],
   "source": [
    "from sklearn.feature_extraction.text import CountVectorizer, TfidfTransformer\n",
    "import matplotlib.pyplot as plt\n",
    "import itertools\n",
    "import nltk\n",
    "nltk.download('stopwords')\n",
    "from sklearn.model_selection import train_test_split\n",
    "from nltk.corpus import stopwords\n",
    "from pymystem3 import Mystem\n",
    "from string import punctuation\n",
    "import pandas as pd"
   ]
  },
  {
   "cell_type": "code",
   "execution_count": 2,
   "metadata": {},
   "outputs": [],
   "source": [
    "mystem = Mystem()\n",
    "russian_stopwords = stopwords.words(\"russian\")\n",
    "\n",
    "\n",
    "# FIRST: Preprocessing\n",
    "def preprocess_text(text):\n",
    "    # 1. lowercase all words\n",
    "    # 2. Lemmatize - interpret different forms of the same word as one word\n",
    "    tokens = mystem.lemmatize(text.lower())\n",
    "    # 3. Remove stopwords and punctuation\n",
    "    tokens = [token for token in tokens if token not in russian_stopwords \\\n",
    "              and token != \" \" \\\n",
    "              and token.strip() not in punctuation]\n",
    "    text = \" \".join(tokens)\n",
    "\n",
    "    return text"
   ]
  },
  {
   "cell_type": "code",
   "execution_count": null,
   "metadata": {},
   "outputs": [],
   "source": [
    "\"\"\"   APPLY PREPROCESSING   \"\"\"\n",
    "# data = pd.read_csv('E:/INEVENTZ/DATA/data.csv')\n",
    "# data['text'] = data['text'].apply(lambda row: preprocess_text(str(row)))\n",
    "# data.to_csv(\"E:/INEVENTZ/DATA/data_no_stopwords.csv\", index=None, header=True)\n"
   ]
  },
  {
   "cell_type": "code",
   "execution_count": 3,
   "metadata": {},
   "outputs": [],
   "source": [
    "data = pd.read_csv('E:/INEVENTZ/DATA/data_no_stopwords.csv')"
   ]
  },
  {
   "cell_type": "code",
   "execution_count": 7,
   "metadata": {},
   "outputs": [
    {
     "name": "stdout",
     "output_type": "stream",
     "text": [
      "272 words total, with a vocabulary size of 215\n",
      "Max sentence length is 308\n"
     ]
    }
   ],
   "source": [
    "# Create list of all WORDS in dataset\n",
    "all_words = [i.split(' ') for i in data[\"text\"]]\n",
    "all_words = list(itertools.chain.from_iterable(all_words))\n",
    "\n",
    "\n",
    "# Count length of each sentence in dataset\n",
    "sentence_lengths = [len(tokens) for tokens in data[\"text\"]]\n",
    "\n",
    "# Create list of all UNIQUE words\n",
    "VOCAB = sorted(list(set(all_words)))\n",
    "\n",
    "print(\"%s words total, with a vocabulary size of %s\" % (len(all_words), len(VOCAB)))\n",
    "print(\"Max sentence length is %s\" % max(sentence_lengths))"
   ]
  },
  {
   "cell_type": "code",
   "execution_count": 8,
   "metadata": {},
   "outputs": [
    {
     "data": {
      "image/png": "[encoded data removed]",
      "text/plain": [
       "<Figure size 720x720 with 1 Axes>"
      ]
     },
     "metadata": {
      "needs_background": "light"
     },
     "output_type": "display_data"
    }
   ],
   "source": [
    "# PLot hist\n",
    "fig = plt.figure(figsize=(10, 10))\n",
    "plt.xlabel('Sentence length')\n",
    "plt.ylabel('Number of sentences')\n",
    "plt.hist(sentence_lengths)\n",
    "plt.show()\n"
   ]
  },
  {
   "cell_type": "code",
   "execution_count": null,
   "metadata": {},
   "outputs": [],
   "source": []
  },
  {
   "cell_type": "code",
   "execution_count": 17,
   "metadata": {},
   "outputs": [],
   "source": [
    "# Create bag of words\n",
    "\n",
    "def cv(data):\n",
    "    count_vectorizer = CountVectorizer()\n",
    "\n",
    "    emb = count_vectorizer.fit_transform(data)\n",
    "    print(\"EMB: \", emb)\n",
    "    print(\"Count_Vectorizer: \", count_vectorizer)\n",
    "    return emb, count_vectorizer\n",
    "\n",
    "list_text = data[\"text\"].tolist()\n",
    "list_labels = data[\"label\"].tolist()\n",
    "\n",
    "X_train, X_test, y_train, y_test = train_test_split(list_text, list_labels, test_size=0.2,\n",
    "                                                                                random_state=40)"
   ]
  },
  {
   "cell_type": "code",
   "execution_count": 18,
   "metadata": {},
   "outputs": [
    {
     "name": "stdout",
     "output_type": "stream",
     "text": [
      "EMB:    (0, 22)\t1\n",
      "  (0, 43)\t1\n",
      "  (0, 99)\t1\n",
      "  (0, 7)\t1\n",
      "  (0, 0)\t1\n",
      "  (0, 132)\t1\n",
      "  (0, 9)\t1\n",
      "  (0, 88)\t1\n",
      "  (0, 115)\t1\n",
      "  (0, 75)\t1\n",
      "  (0, 48)\t1\n",
      "  (0, 73)\t1\n",
      "  (0, 18)\t1\n",
      "  (0, 38)\t1\n",
      "  (0, 23)\t1\n",
      "  (0, 28)\t1\n",
      "  (0, 26)\t1\n",
      "  (0, 32)\t1\n",
      "  (0, 17)\t1\n",
      "  (0, 27)\t1\n",
      "  (0, 33)\t1\n",
      "  (0, 34)\t1\n",
      "  (0, 25)\t1\n",
      "  (0, 31)\t1\n",
      "  (0, 11)\t1\n",
      "  :\t:\n",
      "  (10, 135)\t1\n",
      "  (10, 101)\t1\n",
      "  (10, 71)\t1\n",
      "  (10, 118)\t1\n",
      "  (10, 163)\t1\n",
      "  (10, 136)\t1\n",
      "  (10, 81)\t1\n",
      "  (10, 86)\t1\n",
      "  (10, 45)\t1\n",
      "  (10, 74)\t1\n",
      "  (10, 57)\t1\n",
      "  (10, 126)\t1\n",
      "  (10, 70)\t1\n",
      "  (10, 46)\t1\n",
      "  (10, 139)\t1\n",
      "  (10, 68)\t1\n",
      "  (10, 61)\t1\n",
      "  (10, 161)\t1\n",
      "  (10, 97)\t1\n",
      "  (10, 108)\t1\n",
      "  (10, 49)\t1\n",
      "  (10, 72)\t1\n",
      "  (10, 112)\t1\n",
      "  (10, 66)\t1\n",
      "  (10, 144)\t1\n",
      "Count_Vectorizer:  CountVectorizer(analyzer='word', binary=False, decode_error='strict',\n",
      "                dtype=<class 'numpy.int64'>, encoding='utf-8', input='content',\n",
      "                lowercase=True, max_df=1.0, max_features=None, min_df=1,\n",
      "                ngram_range=(1, 1), preprocessor=None, stop_words=None,\n",
      "                strip_accents=None, token_pattern='(?u)\\\\b\\\\w\\\\w+\\\\b',\n",
      "                tokenizer=None, vocabulary=None)\n"
     ]
    }
   ],
   "source": [
    "X_train_counts, count_vectorizer = cv(X_train)\n",
    "X_test_counts = count_vectorizer.transform(X_test)\n"
   ]
  },
  {
   "cell_type": "code",
   "execution_count": 13,
   "metadata": {},
   "outputs": [],
   "source": [
    "from sklearn.linear_model import LogisticRegression\n",
    "\n",
    "# clf = LogisticRegression(C=30.0, class_weight='balanced', solver='newton-cg',\n",
    "#                          multi_class='multinomial', n_jobs=-1, random_state=40)\n",
    "clf = LogisticRegression()\n",
    "clf.fit(X_train_counts, y_train)\n",
    "\n",
    "y_predicted_counts = clf.predict(X_test_counts)\n"
   ]
  },
  {
   "cell_type": "code",
   "execution_count": 14,
   "metadata": {},
   "outputs": [
    {
     "name": "stdout",
     "output_type": "stream",
     "text": [
      "accuracy = 0.333, precision = 1.000, recall = 0.333, f1 = 0.500\n"
     ]
    },
    {
     "name": "stderr",
     "output_type": "stream",
     "text": [
      "E:\\Program_Files\\Anaconda3\\envs\\stepik_mipt\\lib\\site-packages\\sklearn\\metrics\\_classification.py:1268: UndefinedMetricWarning: Recall is ill-defined and being set to 0.0 in labels with no true samples. Use `zero_division` parameter to control this behavior.\n",
      "  _warn_prf(average, modifier, msg_start, len(result))\n"
     ]
    }
   ],
   "source": [
    "from sklearn.metrics import accuracy_score, f1_score, precision_score, recall_score, classification_report\n",
    "\n",
    "\n",
    "def get_metrics(y_test, y_predicted):\n",
    "    # true positives / (true positives+false positives)\n",
    "    precision = precision_score(y_test, y_predicted, pos_label=None,\n",
    "                                average='weighted')\n",
    "    # true positives / (true positives + false negatives)\n",
    "    recall = recall_score(y_test, y_predicted, pos_label=None,\n",
    "                          average='weighted')\n",
    "\n",
    "    # harmonic mean of precision and recall\n",
    "    f1 = f1_score(y_test, y_predicted, pos_label=None, average='weighted')\n",
    "\n",
    "    # true positives + true negatives/ total\n",
    "    accuracy = accuracy_score(y_test, y_predicted)\n",
    "    return accuracy, precision, recall, f1\n",
    "\n",
    "\n",
    "accuracy, precision, recall, f1 = get_metrics(y_test, y_predicted_counts)\n",
    "print(\"accuracy = %.3f, precision = %.3f, recall = %.3f, f1 = %.3f\" % (accuracy, precision, recall, f1))\n"
   ]
  },
  {
   "cell_type": "code",
   "execution_count": null,
   "metadata": {},
   "outputs": [],
   "source": []
  }
 ],
 "metadata": {
  "kernelspec": {
   "display_name": "Python 3",
   "language": "python",
   "name": "python3"
  },
  "language_info": {
   "codemirror_mode": {
    "name": "ipython",
    "version": 3
   },
   "file_extension": ".py",
   "mimetype": "text/x-python",
   "name": "python",
   "nbconvert_exporter": "python",
   "pygments_lexer": "ipython3",
   "version": "3.7.5"
  }
 },
 "nbformat": 4,
 "nbformat_minor": 2
}
